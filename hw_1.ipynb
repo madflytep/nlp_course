{
  "cells": [
    {
      "cell_type": "markdown",
      "metadata": {
        "id": "tHFR_b_JPCnd"
      },
      "source": [
        "**Homework_1**"
      ]
    },
    {
      "cell_type": "code",
      "execution_count": 2,
      "metadata": {
        "id": "A9RaYxr8cgA0"
      },
      "outputs": [],
      "source": [
        "import nltk\n",
        "import ssl\n",
        "\n",
        "from corus import load_lenta\n",
        "\n",
        "\n",
        "from nltk.tokenize import word_tokenize\n",
        "from nltk.corpus import stopwords\n",
        "from nltk.stem import SnowballStemmer\n",
        "\n",
        "from pymorphy2 import MorphAnalyzer\n",
        "\n",
        "from tqdm import tqdm"
      ]
    },
    {
      "cell_type": "code",
      "execution_count": null,
      "metadata": {
        "colab": {
          "base_uri": "https://localhost:8080/"
        },
        "id": "fPAF62KmPCnf",
        "outputId": "8a9a93b2-beef-4c77-b251-465e78d5a65c"
      },
      "outputs": [],
      "source": [
        "!wget https://github.com/yutkin/Lenta.Ru-News-Dataset/releases/download/v1.0/lenta-ru-news.csv.gz"
      ]
    },
    {
      "cell_type": "code",
      "execution_count": 3,
      "metadata": {
        "colab": {
          "base_uri": "https://localhost:8080/"
        },
        "id": "cVTT4HDuPCng",
        "outputId": "d6ad4951-0c42-4116-f662-ac552e62348f"
      },
      "outputs": [
        {
          "data": {
            "text/plain": [
              "LentaRecord(\n",
              "    url='https://lenta.ru/news/2018/12/14/cancer/',\n",
              "    title='Названы регионы России с\\xa0самой высокой смертностью от\\xa0рака',\n",
              "    text='Вице-премьер по социальным вопросам Татьяна Голикова рассказала, в каких регионах России зафиксирована наиболее высокая смертность от рака, сообщает РИА Новости. По словам Голиковой, чаще всего онкологические заболевания становились причиной смерти в Псковской, Тверской, Тульской и Орловской областях, а также в Севастополе. Вице-премьер напомнила, что главные факторы смертности в России — рак и болезни системы кровообращения. В начале года стало известно, что смертность от онкологических заболеваний среди россиян снизилась впервые за три года. По данным Росстата, в 2017 году от рака умерли 289 тысяч человек. Это на 3,5 процента меньше, чем годом ранее.',\n",
              "    topic='Россия',\n",
              "    tags='Общество',\n",
              "    date=None\n",
              ")"
            ]
          },
          "execution_count": 3,
          "metadata": {},
          "output_type": "execute_result"
        }
      ],
      "source": [
        "#загрузим датасет\n",
        "\n",
        "path = 'lenta-ru-news.csv.gz'\n",
        "records = load_lenta(path)\n",
        "next(records)"
      ]
    },
    {
      "cell_type": "code",
      "execution_count": 4,
      "metadata": {
        "colab": {
          "base_uri": "https://localhost:8080/",
          "height": 125
        },
        "id": "GTzLg-fxPCnh",
        "outputId": "b8c0e7a4-0a8d-4d5f-eb80-9b90bced8bc4"
      },
      "outputs": [
        {
          "data": {
            "text/plain": [
              "'Австрийские правоохранительные органы не представили доказательств нарушения российскими биатлонистами антидопинговых правил. Об этом сообщил посол России в Вене Дмитрий Любинский по итогам встречи уполномоченного адвоката дипмиссии с представителями прокуратуры страны, передает ТАСС. «Действует презумпция невиновности. Каких-либо ограничений свободы передвижения для команды нет», — добавили в посольстве. Международный союз биатлонистов (IBU) также не будет применять санкции к российским биатлонистам. Все они продолжат выступление на Кубке мира. Полиция нагрянула в отель сборной России в Хохфильцене вечером 12 декабря. Как написал биатлонист Александр Логинов, их считают виновными в махинациях с переливанием крови. Биатлонисту Антону Шипулину, также попавшему в список, полиция нанесла отдельный визит: сейчас он тренируется отдельно в австрийском Обертиллахе. Обвинения спортсмен назвал бредом, а также указал на «охоту на ведьм» в мировом биатлоне. В Австрии прием допинга — уголовное пре'"
            ]
          },
          "execution_count": 4,
          "metadata": {},
          "output_type": "execute_result"
        }
      ],
      "source": [
        "# сформируем датасет из текста новостей\n",
        "\n",
        "dataset = [next(records).text for i in range(3000)]\n",
        "dataset[0][:1000]"
      ]
    },
    {
      "cell_type": "markdown",
      "metadata": {
        "id": "rsg7KPbFPCnh"
      },
      "source": [
        "**Предобработка датасета**\n",
        "1. Нормализация"
      ]
    },
    {
      "cell_type": "code",
      "execution_count": 5,
      "metadata": {
        "id": "NkuOCYCHPCnh"
      },
      "outputs": [],
      "source": [
        "normalized_texts = [text.lower() for text in dataset]"
      ]
    },
    {
      "cell_type": "markdown",
      "metadata": {
        "id": "gnm3a90nPCnh"
      },
      "source": [
        "2. Токенизация с учетом языка слова (английский или русский) и удаление стоп-слов"
      ]
    },
    {
      "cell_type": "code",
      "execution_count": null,
      "metadata": {
        "colab": {
          "base_uri": "https://localhost:8080/"
        },
        "id": "arHT6BpQPCnh",
        "outputId": "6cdab6fa-3901-45d5-fcd1-1dd1fb89fb48"
      },
      "outputs": [],
      "source": [
        "try:\n",
        "    _create_unverified_https_context = ssl._create_unverified_context\n",
        "except AttributeError:\n",
        "    pass\n",
        "else:\n",
        "    ssl._create_default_https_context = _create_unverified_https_context\n",
        "\n",
        "nltk.download('punkt')\n",
        "nltk.download('stopwords')"
      ]
    },
    {
      "cell_type": "code",
      "execution_count": 7,
      "metadata": {
        "id": "r_bTQR3TPCni"
      },
      "outputs": [],
      "source": [
        "#списки стоп-слов для русского и английского\n",
        "russian_stop_words = set(stopwords.words('russian'))\n",
        "english_stop_words = set(stopwords.words('english'))"
      ]
    },
    {
      "cell_type": "code",
      "execution_count": 8,
      "metadata": {
        "id": "38a8WBmaPCni"
      },
      "outputs": [],
      "source": [
        "#функция для определения языка слова\n",
        "\n",
        "def detect_language(word):\n",
        "\n",
        "    if all('а' <= char <= 'я' for char in word):\n",
        "        return 'russian'\n",
        "\n",
        "    if all('a' <= char <= 'z' for char in word):\n",
        "        return 'english'"
      ]
    },
    {
      "cell_type": "code",
      "execution_count": 9,
      "metadata": {
        "id": "5D85Nmt6PCni"
      },
      "outputs": [],
      "source": [
        "tokenized_texts = []\n",
        "\n",
        "for text in normalized_texts:\n",
        "\n",
        "    tokens = word_tokenize(text)\n",
        "    filtered_tokens = []\n",
        "\n",
        "    for token in tokens:\n",
        "\n",
        "        language = detect_language(token)\n",
        "\n",
        "        if language == 'russian':\n",
        "\n",
        "            if token not in russian_stop_words:\n",
        "\n",
        "                filtered_tokens.append(token)\n",
        "\n",
        "        elif language == 'english':\n",
        "\n",
        "            if token not in english_stop_words:\n",
        "\n",
        "                filtered_tokens.append(token)\n",
        "\n",
        "    tokenized_texts.append(filtered_tokens)"
      ]
    },
    {
      "cell_type": "code",
      "execution_count": 10,
      "metadata": {
        "colab": {
          "base_uri": "https://localhost:8080/"
        },
        "id": "f8iy9OYXQZYq",
        "outputId": "fb135d98-19dc-4931-996a-677a957229ac"
      },
      "outputs": [
        {
          "data": {
            "text/plain": [
              "['австрийские',\n",
              " 'правоохранительные',\n",
              " 'органы',\n",
              " 'представили',\n",
              " 'доказательств',\n",
              " 'нарушения',\n",
              " 'российскими',\n",
              " 'биатлонистами',\n",
              " 'антидопинговых',\n",
              " 'правил',\n",
              " 'сообщил',\n",
              " 'посол',\n",
              " 'россии',\n",
              " 'вене',\n",
              " 'дмитрий',\n",
              " 'любинский',\n",
              " 'итогам',\n",
              " 'встречи',\n",
              " 'уполномоченного',\n",
              " 'адвоката',\n",
              " 'дипмиссии',\n",
              " 'представителями',\n",
              " 'прокуратуры',\n",
              " 'страны',\n",
              " 'передает',\n",
              " 'тасс',\n",
              " 'действует',\n",
              " 'презумпция',\n",
              " 'невиновности',\n",
              " 'ограничений']"
            ]
          },
          "execution_count": 10,
          "metadata": {},
          "output_type": "execute_result"
        }
      ],
      "source": [
        "tokenized_texts[0][:30]"
      ]
    },
    {
      "cell_type": "markdown",
      "metadata": {
        "id": "oXTMqnSkPCni"
      },
      "source": [
        "3. Лемматизация"
      ]
    },
    {
      "cell_type": "code",
      "execution_count": 11,
      "metadata": {
        "colab": {
          "base_uri": "https://localhost:8080/"
        },
        "id": "joX3NVPfPCni",
        "outputId": "46ff7d0e-a121-436f-fb4b-62318eb28f28"
      },
      "outputs": [
        {
          "name": "stderr",
          "output_type": "stream",
          "text": [
            "100%|██████████| 3000/3000 [00:29<00:00, 100.44it/s]\n"
          ]
        }
      ],
      "source": [
        "morph = MorphAnalyzer()\n",
        "\n",
        "lemmatized_texts = []\n",
        "\n",
        "for tokens in tqdm(tokenized_texts):\n",
        "    lemmas = [morph.parse(word)[0].normal_form for word in tokens]\n",
        "    lemmatized_texts.append(lemmas)"
      ]
    },
    {
      "cell_type": "code",
      "execution_count": 12,
      "metadata": {
        "colab": {
          "base_uri": "https://localhost:8080/"
        },
        "id": "7rAwaQd8QI8v",
        "outputId": "e23d1ec6-7c6d-46be-e2d8-c68185fb1053"
      },
      "outputs": [
        {
          "data": {
            "text/plain": [
              "['австрийский',\n",
              " 'правоохранительный',\n",
              " 'орган',\n",
              " 'представить',\n",
              " 'доказательство',\n",
              " 'нарушение',\n",
              " 'российский',\n",
              " 'биатлонист',\n",
              " 'антидопинговый',\n",
              " 'правило',\n",
              " 'сообщить',\n",
              " 'посол',\n",
              " 'россия',\n",
              " 'вена',\n",
              " 'дмитрий',\n",
              " 'любинский',\n",
              " 'итог',\n",
              " 'встреча',\n",
              " 'уполномоченный',\n",
              " 'адвокат',\n",
              " 'дипмиссия',\n",
              " 'представитель',\n",
              " 'прокуратура',\n",
              " 'страна',\n",
              " 'передавать',\n",
              " 'тасс',\n",
              " 'действовать',\n",
              " 'презумпция',\n",
              " 'невиновность',\n",
              " 'ограничение']"
            ]
          },
          "execution_count": 12,
          "metadata": {},
          "output_type": "execute_result"
        }
      ],
      "source": [
        "lemmatized_texts[0][:30]"
      ]
    },
    {
      "cell_type": "markdown",
      "metadata": {
        "id": "NWkqrVQJPsug"
      },
      "source": [
        "4. Стемминг"
      ]
    },
    {
      "cell_type": "code",
      "execution_count": 13,
      "metadata": {
        "id": "2Co9T00DP1Fa"
      },
      "outputs": [],
      "source": [
        "stemmer = SnowballStemmer(\"russian\")\n",
        "\n",
        "stemmed_texts = []\n",
        "\n",
        "\n",
        "for tokens in tokenized_texts:\n",
        "    stems = [stemmer.stem(word) for word in tokens]\n",
        "    stemmed_texts.append(stems)\n"
      ]
    },
    {
      "cell_type": "code",
      "execution_count": 14,
      "metadata": {
        "colab": {
          "base_uri": "https://localhost:8080/"
        },
        "id": "39XCrHCnQAXn",
        "outputId": "d4a47918-aa6c-48d6-9918-81a08ad53397"
      },
      "outputs": [
        {
          "data": {
            "text/plain": [
              "['австрийск',\n",
              " 'правоохранительн',\n",
              " 'орга',\n",
              " 'представ',\n",
              " 'доказательств',\n",
              " 'нарушен',\n",
              " 'российск',\n",
              " 'биатлонист',\n",
              " 'антидопингов',\n",
              " 'прав',\n",
              " 'сообщ',\n",
              " 'посол',\n",
              " 'росс',\n",
              " 'вен',\n",
              " 'дмитр',\n",
              " 'любинск',\n",
              " 'итог',\n",
              " 'встреч',\n",
              " 'уполномочен',\n",
              " 'адвокат',\n",
              " 'дипмисс',\n",
              " 'представител',\n",
              " 'прокуратур',\n",
              " 'стран',\n",
              " 'переда',\n",
              " 'тасс',\n",
              " 'действ',\n",
              " 'презумпц',\n",
              " 'невиновн',\n",
              " 'ограничен']"
            ]
          },
          "execution_count": 14,
          "metadata": {},
          "output_type": "execute_result"
        }
      ],
      "source": [
        "stemmed_texts[0][:30]"
      ]
    }
  ],
  "metadata": {
    "colab": {
      "provenance": []
    },
    "kernelspec": {
      "display_name": "nlp",
      "language": "python",
      "name": "python3"
    },
    "language_info": {
      "codemirror_mode": {
        "name": "ipython",
        "version": 3
      },
      "file_extension": ".py",
      "mimetype": "text/x-python",
      "name": "python",
      "nbconvert_exporter": "python",
      "pygments_lexer": "ipython3",
      "version": "3.10.13"
    },
    "orig_nbformat": 4
  },
  "nbformat": 4,
  "nbformat_minor": 0
}
